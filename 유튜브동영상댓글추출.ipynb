{
 "cells": [
  {
   "cell_type": "markdown",
   "metadata": {},
   "source": [
    "# 유튜브 댓글 추출"
   ]
  },
  {
   "cell_type": "code",
   "execution_count": 2,
   "metadata": {},
   "outputs": [],
   "source": [
    "from selenium import webdriver\n",
    "from bs4 import BeautifulSoup\n",
    "import json\n",
    "import time"
   ]
  },
  {
   "cell_type": "code",
   "execution_count": 3,
   "metadata": {},
   "outputs": [],
   "source": [
    "#추출할 URL을 리스트형식으로 저장\n",
    "URLlist = ['https://www.youtube.com/watch?v=FMEOsDqp37M&t=24s',\n",
    "'https://www.youtube.com/watch?v=riQGjcw4sMk',\n",
    "'https://www.youtube.com/watch?v=ES1AAH8rBxE&t=4s',\n",
    "'https://www.youtube.com/watch?v=btvdxtq7Xxc',\n",
    "'https://www.youtube.com/watch?v=OOMvbwr7HsE',\n",
    "'https://www.youtube.com/watch?v=a2rj2gSsgbk&t=11s',\n",
    "'https://www.youtube.com/watch?v=JxG3PXhpDSQ&t=8s',\n",
    "'https://www.youtube.com/watch?v=NyGBrZcEVEI']"
   ]
  },
  {
   "cell_type": "code",
   "execution_count": null,
   "metadata": {
    "scrolled": true
   },
   "outputs": [],
   "source": [
    "for i in URLlist:\n",
    "    #driver초기화\n",
    "    driver = webdriver.Chrome('chromedriver.exe')\n",
    "    driver.implicitly_wait(3)\n",
    "    #댓글 추출할 유튜브 페이지 띄움\n",
    "    driver.get(i)\n",
    "    #사이즈를 이렇게 하지않으면 오류가 나올 수 있음\n",
    "    driver.set_window_size(width = 784, height = 831)\n",
    "    # 첫 화면에 댓글이 없으므로 스크롤 한 번 내려줌\n",
    "    driver.execute_script(\"window.scrollTo(0,100000)\")\n",
    "    time.sleep(5)\n",
    "\n",
    "    switch = True\n",
    "    beforelocation = 0\n",
    "    afterlocation = 1\n",
    "    while switch :\n",
    "        #내리기 전 과 내린 후의 위치가 같으면 더 이상 댓글이 없는 것\n",
    "\n",
    "        if beforelocation != afterlocation:\n",
    "            #스크롤 내리기 전 댓글개수 추출\n",
    "            comments = len(driver.find_elements_by_xpath('//*[@id=\"contents\"]/ytd-comment-thread-renderer'))\n",
    "            #스크롤 내리기 전 마지막 댓글 위치 \n",
    "            beforelocation = driver.find_element_by_xpath('//*[@id=\"contents\"]/ytd-comment-thread-renderer[{}]'.format(comments)).location['y']\n",
    "            #스크롤 내려줌\n",
    "            driver.execute_script(\"window.scrollTo(0,{})\".format(beforelocation+10000))\n",
    "            time.sleep(5)\n",
    "            #스크롤 내린 후 마지막 댓글 위치\n",
    "            comments = len(driver.find_elements_by_xpath('//*[@id=\"contents\"]/ytd-comment-thread-renderer'))\n",
    "            afterlocation = driver.find_element_by_xpath('//*[@id=\"contents\"]/ytd-comment-thread-renderer[{}]'.format(comments)).location['y']\n",
    "        elif beforelocation == afterlocation:\n",
    "            switch = False\n",
    "            break\n",
    "        else:\n",
    "            pass\n",
    "\n",
    "    # 댓글이 모두 나온 페이지의 html 파일 추출\n",
    "    html = driver.page_source\n",
    "    time.sleep(5)\n",
    "    soup = BeautifulSoup(html,'html.parser')\n",
    "    time.sleep(2)\n",
    "    commentdata = soup.find_all('yt-formatted-string',{'id':'content-text'})\n",
    "    \n",
    "    #댓글들을 하나의 문자열로 저장\n",
    "    text = ''\n",
    "    for i in commentdata:\n",
    "        text = text + i.text + '.'\n",
    "    #txt로 저장\n",
    "    #window 파일이름에 들어갈 수 없는 글자들 제거\n",
    "    name = driver.find_element_by_xpath('//*[@id=\"container\"]/h1/yt-formatted-string').text\n",
    "    name = name.replace('?','')\n",
    "    name = name.replace('|','')\n",
    "    name = name.replace('*','')\n",
    "    name = name.replace('>','')\n",
    "    name = name.replace('<','')\n",
    "    name = name.replace(':','')\n",
    "    \n",
    "    with open('{}.txt'.format(name),'w',encoding = 'UTF-8') as f:\n",
    "        f.write(text)\n",
    "    #창 닫아준다.\n",
    "    driver.close()"
   ]
  }
 ],
 "metadata": {
  "kernelspec": {
   "display_name": "Python 3",
   "language": "python",
   "name": "python3"
  },
  "language_info": {
   "codemirror_mode": {
    "name": "ipython",
    "version": 3
   },
   "file_extension": ".py",
   "mimetype": "text/x-python",
   "name": "python",
   "nbconvert_exporter": "python",
   "pygments_lexer": "ipython3",
   "version": "3.7.3"
  }
 },
 "nbformat": 4,
 "nbformat_minor": 2
}
